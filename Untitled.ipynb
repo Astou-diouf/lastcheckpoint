{
 "cells": [
  {
   "cell_type": "code",
   "execution_count": null,
   "id": "7468cdb7-41f3-447c-99ee-3a1175e3f8c5",
   "metadata": {},
   "outputs": [],
   "source": [
    "import tkinter as tk"
   ]
  },
  {
   "cell_type": "code",
   "execution_count": null,
   "id": "ca7f9c3f-256b-4d45-b340-fe4f6f2b8ccc",
   "metadata": {},
   "outputs": [],
   "source": [
    "def fahrenheit_to_celsius():\n",
    "    fahrenheit = float(ent_temperature.get())\n",
    "    celsius = (fahrenheit - 32) * 5 / 9\n",
    "    lbl_result[\"text\"] = f\"{round(celsius, 2)} \\N{DEGREE CELSIUS}\""
   ]
  },
  {
   "cell_type": "code",
   "execution_count": null,
   "id": "2c80bf5e-c91f-4432-b6e4-4ba5316c09c2",
   "metadata": {},
   "outputs": [],
   "source": [
    "window = tk.Tk()\n",
    "window.title(\"Convertisseur de température\")\n",
    "window.resizable(width=False, height=False)"
   ]
  },
  {
   "cell_type": "code",
   "execution_count": null,
   "id": "00b3e458-b6ff-4ee5-be87-e800a3712c12",
   "metadata": {},
   "outputs": [],
   "source": [
    "frm_entry = tk.Frame(master=window)\n",
    "ent_temperature = tk.Entry(master=frm_entry, width=10)\n",
    "lbl_temp = tk.Label(master=frm_entry, text=\"\\N{DEGREE FAHRENHEIT}\")\n",
    "ent_temperature.grid(row=0, column=0, sticky=\"e\")\n",
    "lbl_temp.grid(row=0, column=1, sticky=\"w\")"
   ]
  },
  {
   "cell_type": "code",
   "execution_count": null,
   "id": "a1bbcf3c-e9c4-476d-8510-70b080515237",
   "metadata": {},
   "outputs": [],
   "source": [
    "btn_convert = tk.Button(master=window, text=\"\\N{FLÈCHE NOIRE VERS LA DROITE}\", command=fahrenheit_to_celsius)"
   ]
  },
  {
   "cell_type": "code",
   "execution_count": null,
   "id": "bad1f001-86ed-496f-9424-aeb35461e677",
   "metadata": {},
   "outputs": [],
   "source": [
    "lbl_result = tk.Label(master=window, text=\"\\N{DEGREE CELSIUS}\")"
   ]
  },
  {
   "cell_type": "code",
   "execution_count": null,
   "id": "bde799e1-9243-4e4e-ae4b-8a3378cf1f0d",
   "metadata": {},
   "outputs": [],
   "source": [
    "frm_entry.grid(row=0, column=0, padx=10)\n",
    "btn_convert.grid(row=0, column=1, pady=10)\n",
    "lbl_result.grid(row=0, column=2, padx=10)"
   ]
  },
  {
   "cell_type": "code",
   "execution_count": null,
   "id": "e6f722e7-b66b-46e3-8ea1-83fca6d101c9",
   "metadata": {},
   "outputs": [],
   "source": [
    "window.mainloop()"
   ]
  }
 ],
 "metadata": {
  "kernelspec": {
   "display_name": "",
   "name": ""
  },
  "language_info": {
   "name": ""
  }
 },
 "nbformat": 4,
 "nbformat_minor": 5
}
